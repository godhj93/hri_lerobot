{
 "cells": [
  {
   "cell_type": "code",
   "execution_count": 3,
   "metadata": {},
   "outputs": [],
   "source": [
    "import numpy as np\n",
    "import pandas as pd\n",
    "\n",
    "# Define the constraints\n",
    "x_min, x_max = -0.2, 0.2\n",
    "y_min, y_max = -0.2, 0.2\n",
    "z = 0  # Fixed z-coordinate\n",
    "\n",
    "# Generate waypoints for a straight line from one corner to the opposite corner\n",
    "x_waypoints = np.linspace(x_min, x_max, 10)\n",
    "y_waypoints = np.linspace(y_min, y_max, 10)\n",
    "z_waypoints = np.full_like(x_waypoints, z)\n",
    "\n",
    "# Combine into a DataFrame for readability\n",
    "waypoints = pd.DataFrame({\n",
    "    'x': x_waypoints,\n",
    "    'y': y_waypoints,\n",
    "    'z': z_waypoints\n",
    "})\n",
    "\n"
   ]
  },
  {
   "cell_type": "code",
   "execution_count": 9,
   "metadata": {},
   "outputs": [],
   "source": [
    "x,y,z = waypoints.iloc[0]"
   ]
  },
  {
   "cell_type": "code",
   "execution_count": 10,
   "metadata": {},
   "outputs": [
    {
     "data": {
      "text/plain": [
       "(-0.2, -0.2, 0.0)"
      ]
     },
     "execution_count": 10,
     "metadata": {},
     "output_type": "execute_result"
    }
   ],
   "source": [
    "x,y,z"
   ]
  }
 ],
 "metadata": {
  "kernelspec": {
   "display_name": "Python 3",
   "language": "python",
   "name": "python3"
  },
  "language_info": {
   "codemirror_mode": {
    "name": "ipython",
    "version": 3
   },
   "file_extension": ".py",
   "mimetype": "text/x-python",
   "name": "python",
   "nbconvert_exporter": "python",
   "pygments_lexer": "ipython3",
   "version": "3.8.10"
  }
 },
 "nbformat": 4,
 "nbformat_minor": 2
}
